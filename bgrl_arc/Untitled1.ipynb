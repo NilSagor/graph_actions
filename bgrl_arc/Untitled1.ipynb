{
 "cells": [
  {
   "cell_type": "markdown",
   "id": "17ab6e80",
   "metadata": {},
   "source": [
    "# Bootstrapped Representation Learning on Graphs"
   ]
  },
  {
   "cell_type": "markdown",
   "id": "083d8910",
   "metadata": {},
   "source": [
    "## Abstract\n",
    "\n",
    "Self supervised learning method depends on contrastive leaning\n",
    "depend on augmentation and negative pairs.\n",
    "\n",
    "Increasing number of negative pairs improves performance, thereby require quadratic computation and memory cost to achieve peak performance.\n",
    "\n",
    "-\n",
    "- enables effective usage of graph attention(GAT) encoders\n",
    "- achieve 70.49% Micro-F1 on ppi dataset using linear evaluation protocol"
   ]
  }
 ],
 "metadata": {
  "kernelspec": {
   "display_name": "Python 3",
   "language": "python",
   "name": "python3"
  },
  "language_info": {
   "codemirror_mode": {
    "name": "ipython",
    "version": 3
   },
   "file_extension": ".py",
   "mimetype": "text/x-python",
   "name": "python",
   "nbconvert_exporter": "python",
   "pygments_lexer": "ipython3",
   "version": "3.8.2"
  }
 },
 "nbformat": 4,
 "nbformat_minor": 5
}
