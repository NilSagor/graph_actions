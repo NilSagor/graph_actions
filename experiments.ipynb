{
 "cells": [
  {
   "cell_type": "code",
   "execution_count": 3,
   "id": "d575f60d",
   "metadata": {},
   "outputs": [],
   "source": [
    "import networkx as nx\n",
    "from sklearn.cluster import KMeans\n",
    "from urllib import request"
   ]
  },
  {
   "cell_type": "code",
   "execution_count": null,
   "id": "ce14a2b5",
   "metadata": {},
   "outputs": [],
   "source": [
    "url = \"http://perso.telecom-paristech.fr/~bonald/graphs/\"\n",
    "dataset = \"wikipedia_schools_undirected.graphml.gz\"\n",
    "download = request.urlretrieve(url + dataset, dataset)"
   ]
  },
  {
   "cell_type": "code",
   "execution_count": null,
   "id": "398d92d8",
   "metadata": {},
   "outputs": [],
   "source": [
    "graph = nx.read_graphml(dataset, node_type=int)\n",
    "print(nx.info(graph))"
   ]
  },
  {
   "cell_type": "code",
   "execution_count": null,
   "id": "73b902ba",
   "metadata": {},
   "outputs": [],
   "source": [
    "n_nodes = graph.number_of_nodes()\n",
    "degrees = np.array([graph.degrees(u) for u in graph.nodes()])"
   ]
  },
  {
   "cell_type": "code",
   "execution_count": null,
   "id": "5e018217",
   "metadata": {},
   "outputs": [],
   "source": [
    "adjacency = nx.to_scipy_sparse_array(graph)"
   ]
  },
  {
   "cell_type": "markdown",
   "id": "2f270a41",
   "metadata": {},
   "source": [
    "### Embedding"
   ]
  },
  {
   "cell_type": "code",
   "execution_count": null,
   "id": "e7c6ae49",
   "metadata": {},
   "outputs": [],
   "source": [
    "spectral = SpectralEmbedding()\n",
    "weighted_spectral = SpectralEmbedding(node_weights=\"degree\")\n",
    "\n",
    "spectral.fit(adjacency)\n",
    "weighted_spectral.fit(adjacency)"
   ]
  },
  {
   "cell_type": "code",
   "execution_count": null,
   "id": "140ae398",
   "metadata": {},
   "outputs": [],
   "source": [
    "def get_shift_embedding(embedding_, index=None, weighting=\"degree\"):\n",
    "    n_nodes, dim=np.shape(embedding_)\n",
    "    if index is None:\n",
    "        index = range(n_nodes)\n",
    "    if type(weighting) == str:\n",
    "        if weighting == \"degree\":\n",
    "            weights_ = np.array([graph.degree(u) for u in index])\n",
    "        elif weighting == \"unitary\":\n",
    "            weights_ = np.ones(len(index))\n",
    "    else:\n",
    "        weights_ = weighting[index]\n",
    "    centroid_ = np.sum(embedding_[index].T*weights_, axis=1).reshape(1, dim)/np.sum(weights_)\n",
    "    return embedding_, -np.ones((n_nodes, 1)).dot(centroid_)"
   ]
  },
  {
   "cell_type": "code",
   "execution_count": null,
   "id": "1feb2572",
   "metadata": {},
   "outputs": [],
   "source": [
    "embedding = spectral.embedding_\n",
    "weighted_embedding = weighted_spectral.embedding_"
   ]
  },
  {
   "cell_type": "code",
   "execution_count": null,
   "id": "0e51848a",
   "metadata": {},
   "outputs": [],
   "source": [
    "spectrum = spectral.eigenvalues_\n",
    "weighted_spectrum = weighted_spectral.eigenvalues_"
   ]
  },
  {
   "cell_type": "code",
   "execution_count": null,
   "id": "6b7d7e00",
   "metadata": {},
   "outputs": [],
   "source": [
    "shifted_embedding = get_shifted_embedding(embedding)"
   ]
  },
  {
   "cell_type": "code",
   "execution_count": null,
   "id": "dbc75f69",
   "metadata": {},
   "outputs": [],
   "source": [
    "np.shape(embedding)"
   ]
  },
  {
   "cell_type": "markdown",
   "id": "7f788482",
   "metadata": {},
   "source": [
    "### Global clustering"
   ]
  },
  {
   "cell_type": "code",
   "execution_count": null,
   "id": "6a4b5be5",
   "metadata": {},
   "outputs": [],
   "source": [
    "n_clusters = 20\n",
    "kmeans = kMeans(n_clusters, n_init=100)"
   ]
  },
  {
   "cell_type": "code",
   "execution_count": null,
   "id": "1041a742",
   "metadata": {},
   "outputs": [],
   "source": [
    "def sort_nodes(embedding, clusters, ranking, weighting = \"degree\"):\n",
    "    index = np.array(cluster)\n",
    "    if ranking == \"degree\":\n",
    "        return index[np.argsort(- degrees[index])]\n",
    "    elif ranking == \"distance\":\n",
    "        local_distances =  np.linalg.norm(get_shift_embedding(embedding, index, weighting), axis=1)\n",
    "        return index[np.argsort(local_distances[index])]\n",
    "    elif ranking==\"mixed\":\n",
    "        local_distances = np.linalg.norm(get_shift_embedding(embedding, index, weighting), axis=1)\n",
    "        median = len(cluster)//2\n",
    "        index1 = np.argsort(local_distances[index])\n",
    "        index1[:median] = index[np.argsort(-degrees[index[index1[:median]]])]\n",
    "        return index[index1]"
   ]
  },
  {
   "cell_type": "code",
   "execution_count": null,
   "id": "8f89518d",
   "metadata": {},
   "outputs": [],
   "source": [
    "def get_clusters(embedding, normalize=True, ranking=\"mixed\", weighting=\"degree\", selection=None):\n",
    "    \n",
    "    if normalize:\n",
    "        embedding_ = (embedding.T / np.linalg.norm(embedding, axis=1)).T\n",
    "    else:\n",
    "        embedding_ = embedding\n",
    "    kmeans.fit(embedding_)\n",
    "    labels = list(kmeans.labels_)\n",
    "    clusters = [[] for k in range(n_clusters)]\n",
    "    for u in range(len(labels)):\n",
    "        clusters[labels[u]].append(u)\n",
    "    if selection is not None:\n",
    "        clusters = [list(set(c) & set(selection)) for c in clusters]\n",
    "    clusters = sorted(clusters, key = len, reverse = True)\n",
    "    return [sort_nodes(embedding, c, ranking, weighting) for c in clusters if len(c)>0]"
   ]
  },
  {
   "cell_type": "code",
   "execution_count": null,
   "id": "5b0d403a",
   "metadata": {},
   "outputs": [],
   "source": [
    "def show_top_nodes(clusters, k_clusters=20, k_nodes = 5):\n",
    "    to_print = \"\"\n",
    "    for i, c in enumerate(clusters):\n",
    "        if i < k_clusters:\n",
    "            to_print += str(i+1)+\" (\" + str(len(c)) + \") \"\n",
    "            for u in c[:k_nodes]:\n",
    "                to_print += graph.node[u][\"name\"] + \",\"\n",
    "            to_print += \"\\n\"\n",
    "    print(to_print)"
   ]
  },
  {
   "cell_type": "code",
   "execution_count": null,
   "id": "25788953",
   "metadata": {},
   "outputs": [],
   "source": [
    "clusters = get_clusters(embedding, weighting=\"unitary\")\n",
    "shifted_clusters = get_clusters(shifted_embedding)\n",
    "weighted_clusters = get_clusters(weighted_embedding)"
   ]
  },
  {
   "cell_type": "code",
   "execution_count": null,
   "id": "060a36c2",
   "metadata": {},
   "outputs": [],
   "source": [
    "show_top_nodes(clusters)\n",
    "show_top_nodes(shifted_clusters)\n",
    "show_top_nodes(weighted_clusters)"
   ]
  },
  {
   "cell_type": "markdown",
   "id": "d67ca007",
   "metadata": {},
   "source": [
    "### Selective clustering"
   ]
  },
  {
   "cell_type": "code",
   "execution_count": null,
   "id": "3ba4ad6f",
   "metadata": {},
   "outputs": [],
   "source": [
    "def get_nodes_by_category(category):\n",
    "    return [u for u in graph.nodes() if \"category\" in graph.node[u] and category in graph.node[u][\"category\"]]"
   ]
  },
  {
   "cell_type": "code",
   "execution_count": null,
   "id": "d1f634e6",
   "metadata": {},
   "outputs": [],
   "source": [
    "people = get_nodes_by_category(\"People.\")\n",
    "len(people)"
   ]
  },
  {
   "cell_type": "code",
   "execution_count": null,
   "id": "6b3dc376",
   "metadata": {},
   "outputs": [],
   "source": [
    "selected_nodes = people\n",
    "subgraph = nx.Graph(graph.subgraph(people))\n",
    "nx.is_connected(subgraph)"
   ]
  },
  {
   "cell_type": "code",
   "execution_count": null,
   "id": "08b7fc52",
   "metadata": {},
   "outputs": [],
   "source": [
    "factor = 10\n",
    "factors = np.array([1+(factor - 1)* int(u in selected_nodes) for u in graph.nodes()])\n",
    "uniform_weights = factors\n",
    "degree_weights = degrees*factors"
   ]
  },
  {
   "cell_type": "code",
   "execution_count": null,
   "id": "66f1d12d",
   "metadata": {},
   "outputs": [],
   "source": [
    "selective_spectral = SpectralEmbedding(node_weights = uniform_weights)\n",
    "selective_weighted_spectral = SpectralEmbedding(node_weights = degree_weights)\n",
    "\n",
    "\n",
    "selective_spectral.fit(adjacency)\n",
    "selective_weighted_spectral.fit(adjacency)"
   ]
  },
  {
   "cell_type": "code",
   "execution_count": null,
   "id": "dbfce5c1",
   "metadata": {},
   "outputs": [],
   "source": [
    "selective_embedding = selective_sepectral.embedding_\n",
    "selective_weighted_embedding = selective_weighted_spectral.embedding_\n",
    "selective_shifted_embedding = selective_"
   ]
  },
  {
   "cell_type": "code",
   "execution_count": null,
   "id": "4a6fff42",
   "metadata": {},
   "outputs": [],
   "source": [
    "selective_clusters = get_clusters(\n",
    "    selective_embedding,\n",
    "    ranking=\"degree\",\n",
    "    selection = selected_nodes\n",
    ")\n",
    "\n",
    "\n",
    "\n",
    "selective_shifted_clusters = get_clusters(\n",
    "    selective_shifted_embedding, \n",
    "    ranking=\"degree\",\n",
    "    selection = selected_nodes\n",
    ")\n",
    "\n",
    "\n",
    "\n",
    "selective_weighted_clusters = get_clusters(\n",
    "    selective_weighted_embedding, \n",
    "    ranking=\"degree\", \n",
    "    selction=selected_nodes\n",
    ")"
   ]
  },
  {
   "cell_type": "code",
   "execution_count": null,
   "id": "7a681232",
   "metadata": {},
   "outputs": [],
   "source": [
    "show_top_nodes(selective_clusters)\n",
    "show_top_nodes(selective_shifted_clusters)\n",
    "show_top_nodes(selective_weighted_clusters)"
   ]
  }
 ],
 "metadata": {
  "kernelspec": {
   "display_name": "Python 3",
   "language": "python",
   "name": "python3"
  },
  "language_info": {
   "codemirror_mode": {
    "name": "ipython",
    "version": 3
   },
   "file_extension": ".py",
   "mimetype": "text/x-python",
   "name": "python",
   "nbconvert_exporter": "python",
   "pygments_lexer": "ipython3",
   "version": "3.8.2"
  }
 },
 "nbformat": 4,
 "nbformat_minor": 5
}
