{
 "cells": [
  {
   "cell_type": "markdown",
   "id": "a0b1df82",
   "metadata": {},
   "source": [
    "conclusion:\n",
    "\n",
    "- PSSC by combining DSC and self supervised learning approach.\n",
    "- The method use pseudo-labels as supervision \n",
    "- to makes full use of relation information to learn discriminative features.\n",
    "\n",
    "- locality preserving\n",
    "- self-expression\n",
    "- self-supervision\n",
    "\n",
    "into a unified framework\n",
    "\n",
    "- address the large-scale and out-of-sample problem facing subspace clustering"
   ]
  },
  {
   "cell_type": "markdown",
   "id": "916a78fd",
   "metadata": {},
   "source": [
    "Results:\n",
    "\n",
    "Table V\n",
    "\n",
    "- compared to DKM, PSSC improves 5%, 17.8% and 19.7% on three dataset\n",
    "- DEPICT on MNIST 3.9% higher than our method, achieves 7.9% higher on USPS\n",
    "- benefit from embedding samples into subspace and pseudo-supervising the learning process.\n",
    "- kSCN for deep subspace clustering on large image datasets\n",
    "- Acc by 2% and 6% on MNIST USPS data\n",
    "- show convincing ability to address large-scale and out-of-sample problems.\n",
    "\n"
   ]
  },
  {
   "cell_type": "markdown",
   "id": "c9c02902",
   "metadata": {},
   "source": [
    "used USPS data to t-SNE visualize learned latent representation of good performance\n",
    "\n",
    "- precisely project sample of each class into a subspace thus can be well separated.\n",
    "- kSCN pink and purple classes blend with each other\n",
    "- DSCDSN several clusters are close to each other.\n",
    "- DEPICT, black class is separated into different place, which degrade the performance.\n",
    "- IDEC and DKM merge different classes beacuse force samples to move to cluster centers."
   ]
  },
  {
   "cell_type": "code",
   "execution_count": null,
   "id": "af686345",
   "metadata": {},
   "outputs": [],
   "source": []
  }
 ],
 "metadata": {
  "kernelspec": {
   "display_name": "Python 3",
   "language": "python",
   "name": "python3"
  },
  "language_info": {
   "codemirror_mode": {
    "name": "ipython",
    "version": 3
   },
   "file_extension": ".py",
   "mimetype": "text/x-python",
   "name": "python",
   "nbconvert_exporter": "python",
   "pygments_lexer": "ipython3",
   "version": "3.8.2"
  }
 },
 "nbformat": 4,
 "nbformat_minor": 5
}
