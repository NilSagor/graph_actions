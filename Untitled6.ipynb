{
 "cells": [
  {
   "cell_type": "code",
   "execution_count": 17,
   "id": "a5d6862a",
   "metadata": {},
   "outputs": [],
   "source": [
    "import torch\n",
    "import logging\n",
    "\n",
    "import argparse\n"
   ]
  },
  {
   "cell_type": "code",
   "execution_count": 25,
   "id": "992215ad",
   "metadata": {},
   "outputs": [],
   "source": [
    "log = logging.getLogger(__name__)\n",
    "\n",
    "#parser = argparse.ArgumentParser()\n",
    "#parser.add_argument(\"--model_seed\", type=int, default=47)\n",
    "\n",
    "#args = parser.parse_args()\n",
    "model_seed = 47"
   ]
  },
  {
   "cell_type": "code",
   "execution_count": 28,
   "id": "4c8a9c99",
   "metadata": {},
   "outputs": [],
   "source": [
    "def main():\n",
    "    # select gpu or cpu\n",
    "    device = torch.device(\"cuda\") if torch.cuda.is_available() else torch.device(\"cpu\")\n",
    "    log.info(\"Using for training: \".format(device))\n",
    "    \n",
    "    # set random seed\n",
    "    if model_seed is not None:\n",
    "        log.info(\"Random seed set {}\".format(model_seed))\n",
    "        set_random_seed(random_seed=model_seed)\n",
    "        \n",
    "    # create log directory\n",
    "    os.makedirs(logdir, exist_ok=True)\n",
    "    with open(os.path.join(logdir, \"config.yaml\"), \"w\") as file:\n",
    "        file.write()\n",
    "        \n",
    "    # load data\n",
    "    if args.dataset != 'wiki-cs':\n",
    "        dataset = get_dataset(args.dataset_dir, args.dataset)\n",
    "        num_eval_splits = args.num_eval_splits\n",
    "    else:\n",
    "        dataset, train_masks, val_masks, test_masks = get_wiki_cs(args.dataset_dir)\n",
    "        num_eval_splits = train_masks.shape[1]\n",
    "        \n",
    "    data = dataset[0]\n",
    "    log.info(\"Dataset {}, {}\".format(dataset.__class__.__name__, data))\n",
    "    data = data.to(device)\n",
    "    \n",
    "    #prepare transforms\n",
    "    transform_1 = get_graph_transform(drop_edge_p=args.drop_edge_p_1, drop_feat_p = args.drop_feat_p_1)\n",
    "    transform_2 = get_graph_transform(drop_edge_p = args.drop_edge_p_2, drop_feat_p = args.drop_feat_p_2)\n",
    "    \n",
    "    # build networks\n",
    "    input_size, representation_size = data.x.size(1), args.graph_encoder_layer[-1]\n",
    "    encoder = GCN([input_size] + args.graph_encoder_layer, batchnorm=True)\n",
    "    predictor = MLP_Predictor(representation_size, representation_size, hidden_size=args.predictor_hidden_size)\n",
    "    model = BGRL(encoder, predictor).to(device)\n",
    "    \n",
    "    #optimizer\n",
    "    optimizer = AdamW(model.parameters(), lr=args.lr, weight_decay = args.weight_decay)\n",
    "    \n",
    "    #scheduler\n",
    "    lr_scheduler = CosineDecayScheduler(lr, lr_warmup_epochs, epochs)\n",
    "    mm_scheduler = CosineDecayScheduler(1-mm, 0, epochs)\n",
    "    \n",
    "    # tensor board\n",
    "    writer = SummaryWriter(logdir)\n",
    "    layout = {\"accuracy\":{'accuracy/test':['Multiline', [f'accuracy/test_{i}' for i in range(num_eval_splits)]]}}\n",
    "    writer.add_custom_scalars(layout)\n",
    "    "
   ]
  },
  {
   "cell_type": "code",
   "execution_count": 29,
   "id": "de40dbe9",
   "metadata": {},
   "outputs": [
    {
     "ename": "NameError",
     "evalue": "name 'set_random_seed' is not defined",
     "output_type": "error",
     "traceback": [
      "\u001b[0;31m---------------------------------------------------------------------------\u001b[0m",
      "\u001b[0;31mNameError\u001b[0m                                 Traceback (most recent call last)",
      "\u001b[0;32m<ipython-input-29-972361fa1b80>\u001b[0m in \u001b[0;36m<module>\u001b[0;34m\u001b[0m\n\u001b[1;32m      1\u001b[0m \u001b[0;32mif\u001b[0m \u001b[0m__name__\u001b[0m \u001b[0;34m==\u001b[0m \u001b[0;34m\"__main__\"\u001b[0m\u001b[0;34m:\u001b[0m\u001b[0;34m\u001b[0m\u001b[0;34m\u001b[0m\u001b[0m\n\u001b[0;32m----> 2\u001b[0;31m     \u001b[0mmain\u001b[0m\u001b[0;34m(\u001b[0m\u001b[0;34m)\u001b[0m\u001b[0;34m\u001b[0m\u001b[0;34m\u001b[0m\u001b[0m\n\u001b[0m",
      "\u001b[0;32m<ipython-input-28-2be7906d8eb2>\u001b[0m in \u001b[0;36mmain\u001b[0;34m()\u001b[0m\n\u001b[1;32m      7\u001b[0m     \u001b[0;32mif\u001b[0m \u001b[0mmodel_seed\u001b[0m \u001b[0;32mis\u001b[0m \u001b[0;32mnot\u001b[0m \u001b[0;32mNone\u001b[0m\u001b[0;34m:\u001b[0m\u001b[0;34m\u001b[0m\u001b[0;34m\u001b[0m\u001b[0m\n\u001b[1;32m      8\u001b[0m         \u001b[0mlog\u001b[0m\u001b[0;34m.\u001b[0m\u001b[0minfo\u001b[0m\u001b[0;34m(\u001b[0m\u001b[0;34m\"Random seed set {}\"\u001b[0m\u001b[0;34m.\u001b[0m\u001b[0mformat\u001b[0m\u001b[0;34m(\u001b[0m\u001b[0mmodel_seed\u001b[0m\u001b[0;34m)\u001b[0m\u001b[0;34m)\u001b[0m\u001b[0;34m\u001b[0m\u001b[0;34m\u001b[0m\u001b[0m\n\u001b[0;32m----> 9\u001b[0;31m         \u001b[0mset_random_seed\u001b[0m\u001b[0;34m(\u001b[0m\u001b[0mrandom_seed\u001b[0m\u001b[0;34m=\u001b[0m\u001b[0mmodel_seed\u001b[0m\u001b[0;34m)\u001b[0m\u001b[0;34m\u001b[0m\u001b[0;34m\u001b[0m\u001b[0m\n\u001b[0m",
      "\u001b[0;31mNameError\u001b[0m: name 'set_random_seed' is not defined"
     ]
    }
   ],
   "source": [
    "if __name__ == \"__main__\":\n",
    "    main()"
   ]
  },
  {
   "cell_type": "code",
   "execution_count": null,
   "id": "00d88b71",
   "metadata": {},
   "outputs": [],
   "source": []
  }
 ],
 "metadata": {
  "kernelspec": {
   "display_name": "Python 3",
   "language": "python",
   "name": "python3"
  },
  "language_info": {
   "codemirror_mode": {
    "name": "ipython",
    "version": 3
   },
   "file_extension": ".py",
   "mimetype": "text/x-python",
   "name": "python",
   "nbconvert_exporter": "python",
   "pygments_lexer": "ipython3",
   "version": "3.8.2"
  }
 },
 "nbformat": 4,
 "nbformat_minor": 5
}
