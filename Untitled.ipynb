{
 "cells": [
  {
   "cell_type": "code",
   "execution_count": null,
   "id": "c24dacf1",
   "metadata": {},
   "outputs": [],
   "source": [
    "import numpy as np"
   ]
  },
  {
   "cell_type": "code",
   "execution_count": null,
   "id": "e32091af",
   "metadata": {},
   "outputs": [],
   "source": [
    "class SpectralEmbedding:\n",
    "    def __init__(self, embedding_dimension = 100, node_weights = \"uniform\", eigenvalue_normalization = True):\n",
    "        self.embedding_ = None\n",
    "        self.eigenvalues_ = None\n",
    "        self.embedding_dimension = embedding_dimension\n",
    "        self.eigenvalue_normalization = eigenvalue_normalization\n",
    "        self.node_weights = node_weights\n",
    "        \n",
    "    def fit(self, adjacency_matrix, node_weights=None):\n",
    "        \n",
    "        # check adjacency matrix format\n",
    "        if type(adjacency_matrix) == sparse.csr_matrix:\n",
    "            adj_matrix = adjacency_matrix\n",
    "        elif sparse.isspmatrix(adjacency_matrix) or type(adjacency_matrix) == np.ndarray:\n",
    "            adj_matrix = sparse.csr_matrix(adjacency_matrix)\n",
    "        else:\n",
    "            raise TypeError(\"The argument must be a numpy array or scipy sparse matrix\")\n",
    "            \n",
    "        n_nodes, m_nodes = adj_matrix.shape\n",
    "        \n",
    "        if n_nodes != m_nodes:\n",
    "            raise ValueError(\"The adjacency matrix must be a square matrix\")\n",
    "        if adj_matrix != adj_matrix.T:\n",
    "            raise ValueError(\"The adjacency matrix must be symmetric\")\n",
    "        if csgraph.connected_components(adj_matrix, directed=False)[0] >1:\n",
    "            raise ValueError(\"The graph must be connected\")\n",
    "            \n",
    "        # build standard laplacian\n",
    "        degrees = adj_matrix.dot(np.ones(n_nodes))\n",
    "        degree_matrix = sparse.diags(degrees, format=\"csr\")\n",
    "        laplacian = degree_matrix - adj_matrix\n",
    "        \n",
    "        # applies normalization by node weights\n",
    "        if node_weights is not None:\n",
    "            self.node_weights = node_weights\n",
    "            \n",
    "        if type(self.node_weights) == str:\n",
    "            if self.node_weights == \"uniform\":\n",
    "                weight_matrix = sparse.identity(n_nodes)\n",
    "            elif self.node_weights == \"degree\":\n",
    "                with errstate(divide=\"ignore\"):\n",
    "                    degrees_inv_sqrt = 1.0/sqrt(degrees)\n",
    "                degrees_inv_sqrt[isinf(degrees_inv_sqrt)] = 0\n",
    "                weight_matrix = sparse.diags(degrees_inv_sqrt, format=\"csr\")\n",
    "        else:\n",
    "            if len(self.node_weights) != n_nodes:\n",
    "                raise ValueError(\"node_weights must be an array of length n_nodes\")\n",
    "            elif min(self.node_weights) < 0:\n",
    "                raise ValueError(\"node_weights must be positive\")\n",
    "            else:\n",
    "                with errsate(divide=\"ignore\"):\n",
    "                    weights_inv\n",
    "        laplacian = weight_matrix.dot(laplacian.dot(weight_matrix))\n",
    "        \n",
    "        # spectral decomposition\n",
    "        eigenvalues, eigenvectors = eigsh(laplacian, min(self.embedding_dimension + 1, n_nodes - 1), which=\"SM\")\n",
    "        \n",
    "        self.embedding_ = np.array(weight_matrix.dot(eigenvector[:, 1:]))\n",
    "        \n",
    "        if self.eigenvalue_normalization:\n",
    "            eigenvalues_inv_sqrt = 1.0/sqrt(eigenvalues[1:])\n",
    "            self.embedding_ = eigenvalues_inv_sqrt*self.embedding_            \n",
    "            \n",
    "        return self"
   ]
  }
 ],
 "metadata": {
  "kernelspec": {
   "display_name": "Python 3",
   "language": "python",
   "name": "python3"
  },
  "language_info": {
   "codemirror_mode": {
    "name": "ipython",
    "version": 3
   },
   "file_extension": ".py",
   "mimetype": "text/x-python",
   "name": "python",
   "nbconvert_exporter": "python",
   "pygments_lexer": "ipython3",
   "version": "3.8.2"
  }
 },
 "nbformat": 4,
 "nbformat_minor": 5
}
