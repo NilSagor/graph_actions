{
 "cells": [
  {
   "cell_type": "code",
   "execution_count": null,
   "id": "7a8e2c75",
   "metadata": {},
   "outputs": [],
   "source": [
    "class BANE(object):\n",
    "    def __init__(self, args, P, X):\n",
    "        self.args = args\n",
    "        self.P = P\n",
    "        self.X = X\n",
    "        \n",
    "    def fit(self):\n",
    "        self.fit_base_SVD_model()\n",
    "        self.binary_optimizer()\n",
    "    \n",
    "    def fit_base_SVD_model(self):\n",
    "        # Reducing the dimensionality with SVD in the 1st step\n",
    "        self.P = self.P.dot(self.X)\n",
    "        self.model = TruncatedSVD(\n",
    "            n_components=self.args.dimensions, \n",
    "            n_iter=70, \n",
    "            random_state=42\n",
    "        )\n",
    "        self.model.fit(self.P)\n",
    "        self.P = self.model.fit_transform(self.P)\n",
    "        \n",
    "    def update_G(self):\n",
    "        \"Update the kernel matrix\"\n",
    "        self.G = np.dot(self.B.transpose(), self.B)\n",
    "        \n",
    "        \n",
    "    "
   ]
  }
 ],
 "metadata": {
  "kernelspec": {
   "display_name": "Python 3",
   "language": "python",
   "name": "python3"
  },
  "language_info": {
   "codemirror_mode": {
    "name": "ipython",
    "version": 3
   },
   "file_extension": ".py",
   "mimetype": "text/x-python",
   "name": "python",
   "nbconvert_exporter": "python",
   "pygments_lexer": "ipython3",
   "version": "3.8.2"
  }
 },
 "nbformat": 4,
 "nbformat_minor": 5
}
