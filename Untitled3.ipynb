{
 "cells": [
  {
   "cell_type": "markdown",
   "id": "005ff875",
   "metadata": {},
   "source": [
    "# Topology Imbalance Learning for Semi-Supervised Node Classification"
   ]
  },
  {
   "cell_type": "markdown",
   "id": "61248a1f",
   "metadata": {},
   "source": [
    " from asymmetric topological properties of the labeled nodes\n",
    "\n",
    "- class imbalance issue in learning node representation\n",
    "- labels node are not equal in terms of their structural role in the graph.\n",
    "\n",
    "- probe the previously unknown toplogy-imbalance issue including its characteristics, cause, and threats to semi-supervised node classification.\n",
    "\n",
    "- jointly analyzing the quantity and topology imbalance issues by considering the the node influence shift phenomenon\n",
    "\n",
    "- Label Propagation alogrithm\n",
    "- influence conflict detection-based metric totoro to measure the degree of graph topology imbalance\n",
    "- model-agnostic method ReNode address toplogy-imbalance issue by re-weighting the influence of labels nodes adaptively based on their relative positions to class boundaries.\n",
    "- relieving topology-imbalance issue\n",
    "- promoting semi supervised node classification"
   ]
  },
  {
   "cell_type": "code",
   "execution_count": null,
   "id": "b9fe72c4",
   "metadata": {},
   "outputs": [],
   "source": []
  },
  {
   "cell_type": "markdown",
   "id": "ccd30580",
   "metadata": {},
   "source": [
    "### Experiments\n",
    "\n",
    "- TINL\n",
    "- TINL and QINL\n",
    "- Large-scale Graph"
   ]
  },
  {
   "cell_type": "markdown",
   "id": "5ad7a8c5",
   "metadata": {},
   "source": [
    "#### Dataset\n",
    "\n",
    "\n",
    "- transductive settings:\n",
    "    - Plantoid paper citation graphs (Cora, Citeseer, Pubmed)\n",
    "    - Amazon co-purchase graph (Photo, computer)\n",
    "\n",
    "- inductive settings:\n",
    "    - Reddit dataset\n",
    "    - MAG-Scholar dataset (coarse-grain)\n",
    "    \n",
    "- \n",
    "- 5 different splittings\n",
    "- 3 times for each splitting to reduce random variance\n"
   ]
  },
  {
   "cell_type": "markdown",
   "id": "7df64b5a",
   "metadata": {},
   "source": [
    "Settings:\n",
    "\n",
    "- \n",
    "\n",
    "\n",
    "\n",
    "\n",
    "Results:\n",
    "\n",
    "- overall performance (Weighted-F1)\n",
    "- class-balance performance (Macro-F1)"
   ]
  },
  {
   "cell_type": "markdown",
   "id": "93c7b540",
   "metadata": {},
   "source": [
    "#### ReNode for the Compound Scene of TINL and QINL"
   ]
  },
  {
   "cell_type": "markdown",
   "id": "a2ed2425",
   "metadata": {},
   "source": [
    "Settings:\n",
    "\n",
    "- jointly considering both topology- and quantity-imbalance issues\n",
    "- \n",
    "- backbone model GCN, labeling ratio $\\delta$ 5%"
   ]
  },
  {
   "cell_type": "code",
   "execution_count": null,
   "id": "8de8f6a9",
   "metadata": {},
   "outputs": [],
   "source": []
  },
  {
   "cell_type": "markdown",
   "id": "b620de59",
   "metadata": {},
   "source": [
    "### ReNode for Large-Scale graph"
   ]
  },
  {
   "cell_type": "markdown",
   "id": "33844d39",
   "metadata": {},
   "source": [
    "\n",
    "#### settings:\n",
    "\n",
    "- experiment: Reddit and MAG-Scholar \n",
    "- settings: Inductive settings\n",
    "- Labeling size: 20/50/100 training nodes per class\n",
    "- Imbalance Settings: TINL, TINL and QINL\n",
    "- Backbone model: PPRGo\n",
    "- training Loss: $L_L$\n",
    "\n",
    "    "
   ]
  },
  {
   "cell_type": "markdown",
   "id": "be2a995b",
   "metadata": {},
   "source": [
    "#### Results:\n",
    "\n",
    "- experiment results with different labeling sizes adn imbalance settings\n",
    "- when label size is large, the positions located by the conflicts among nodes will be more accurate, bringing more reasonable weight ajustments.\n",
    "- when labeling ratio is extremely small and the influence conflict between the label nodes negligible, exhibits cold start problem."
   ]
  },
  {
   "cell_type": "markdown",
   "id": "3520e4fb",
   "metadata": {},
   "source": [
    "### Discussions"
   ]
  },
  {
   "cell_type": "markdown",
   "id": "3b8dbc08",
   "metadata": {},
   "source": [
    "### 1 Evaluate"
   ]
  },
  {
   "cell_type": "markdown",
   "id": "93b1fdd8",
   "metadata": {},
   "source": [
    "### 2 Limitations of Method"
   ]
  },
  {
   "cell_type": "markdown",
   "id": "e023e6cd",
   "metadata": {},
   "source": [
    "### Related Work"
   ]
  },
  {
   "cell_type": "code",
   "execution_count": null,
   "id": "e3b21eab",
   "metadata": {},
   "outputs": [],
   "source": []
  },
  {
   "cell_type": "markdown",
   "id": "d39bab65",
   "metadata": {},
   "source": [
    "### Conclusion: \n",
    "\n",
    "- recognize the topology-imbalance node-representation learning (TINL) as a graph specific imbalance learning problem\n",
    "\n",
    "- unify TINL with quantity-imbalance node representation learning (QINL) by considering the shift of the node influence boundaries from true class boundaries.\n",
    "- to measure the degree of topology imbalance, devise conflict detection-based metric Totoro to locate node position \n",
    "- propose ReNode method to adaptively adjust the training weights of labeled nodes based on topological positions.\n",
    "- TINL only, both TINL and QINL and large-scale graph\n",
    "- propose topology-imbalance sensitivity as a new metric to evaluate GNN\n",
    "- how to measure and solve the topology-imbalance issues in broader graph scopes a future study"
   ]
  },
  {
   "cell_type": "code",
   "execution_count": null,
   "id": "a81b1130",
   "metadata": {},
   "outputs": [],
   "source": []
  }
 ],
 "metadata": {
  "kernelspec": {
   "display_name": "Python 3",
   "language": "python",
   "name": "python3"
  },
  "language_info": {
   "codemirror_mode": {
    "name": "ipython",
    "version": 3
   },
   "file_extension": ".py",
   "mimetype": "text/x-python",
   "name": "python",
   "nbconvert_exporter": "python",
   "pygments_lexer": "ipython3",
   "version": "3.8.2"
  }
 },
 "nbformat": 4,
 "nbformat_minor": 5
}
