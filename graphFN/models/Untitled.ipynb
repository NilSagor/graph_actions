{
 "cells": [
  {
   "cell_type": "code",
   "execution_count": null,
   "id": "3e4e9c34",
   "metadata": {},
   "outputs": [],
   "source": [
    "from embedder import embedder"
   ]
  },
  {
   "cell_type": "code",
   "execution_count": null,
   "id": "e75990dc",
   "metadata": {},
   "outputs": [],
   "source": [
    "class GraFN_Trainer(embedder):\n",
    "    def __init__(self, args):\n",
    "        super().__init__(args)\n",
    "        self.args = args\n",
    "        \n",
    "    def __init__model(self):\n",
    "        self.model = GraFN()\n",
    "        self.optimizer = Adam()\n"
   ]
  },
  {
   "cell_type": "code",
   "execution_count": null,
   "id": "e669da00",
   "metadata": {},
   "outputs": [],
   "source": [
    "class GraFN(nn.Module):\n",
    "    def __init__(self, encoder, classifier, unique_labels, tau = 0.1, thres = 0.9, device = 0):\n",
    "        super().__init__()\n",
    "        self.encoder = encoder\n",
    "        self.classifier = classifier\n",
    "        \n",
    "        self.tau = tau\n",
    "        self.thres = thres\n",
    "        \n",
    "        self.softmax = nn.Softmax(dim=1)\n",
    "        self.num_unique_labels = len(unique_labels)\n",
    "        \n",
    "        self.device =. device\n",
    "        \n",
    "        self.reset_parameters()\n",
    "        \n",
    "    def forward(self, x):\n",
    "        rep = self.encoder(x)\n",
    "        return rep\n",
    "        \n",
    "    def cls(self, x):\n",
    "        out = self.encoder(x)\n",
    "        return self.classifier(out)\n",
    "    \n",
    "    def reset_parameters(self):\n",
    "        reset(self.encoder)\n",
    "        reset(self.classifier)"
   ]
  }
 ],
 "metadata": {
  "kernelspec": {
   "display_name": "Python 3",
   "language": "python",
   "name": "python3"
  },
  "language_info": {
   "codemirror_mode": {
    "name": "ipython",
    "version": 3
   },
   "file_extension": ".py",
   "mimetype": "text/x-python",
   "name": "python",
   "nbconvert_exporter": "python",
   "pygments_lexer": "ipython3",
   "version": "3.8.2"
  }
 },
 "nbformat": 4,
 "nbformat_minor": 5
}
