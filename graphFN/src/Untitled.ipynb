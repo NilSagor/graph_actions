{
 "cells": [
  {
   "cell_type": "code",
   "execution_count": 5,
   "id": "93dfba0e",
   "metadata": {},
   "outputs": [],
   "source": [
    "import os.path as osp\n",
    "\n",
    "import numpy as np"
   ]
  },
  {
   "cell_type": "code",
   "execution_count": 2,
   "id": "e6213075",
   "metadata": {},
   "outputs": [],
   "source": [
    "def decide_config(root, dataset):\n",
    "    \"\"\"\n",
    "    Create a configuration to download datasets\n",
    "    :param root: a path to a root directory where data will be stored\n",
    "    :param dataset: the name of the dataset to be download\n",
    "    :return: A modified root dir, the name of the dataset class and parameters associated to the class\n",
    "    \"\"\"\n",
    "    dataset = dataset.lower()\n",
    "    if dataset == \"cora\" or dataset == \"citeseer\" or dataset == \"pubmed\":\n",
    "        root = osp.join(root, \"pyg\", \"planettoid\")\n",
    "        params = {\"kwargs\": {\"root\": root, \"name\": dataset},\n",
    "                 \"name\": dataset, \"class\": Planetoid, \"src\": \"pyg\"}\n",
    "    elif dataset == \"computers\":\n",
    "        dataset = \"Computers\"\n",
    "        root = osp.join(root, \"pyg\")\n",
    "        params = {\"kwargs\": {\"root\": root, \"name\": dataset},\n",
    "                 \"name\": dataset, \"class\": Amazon, \"src\": \"pyg\"}\n",
    "    elif dataset == \"photo\":\n",
    "        dataset = \"Photo\"\n",
    "        root = osp.join(root, \"pyg\")\n",
    "        params = {\"kwargs\": {\"root\": root, \"name\": dataset},\n",
    "                 \"name\": dataset, \"class\": Amazon, \"src\": \"pyg\"}\n",
    "        \n",
    "    else:\n",
    "        raise Exception(\n",
    "            f\"Unknown dataset {dataset}, name has to be 'cora', 'citeseer', 'pubmed', 'photo', 'computers'\"\n",
    "        )\n",
    "    return params"
   ]
  },
  {
   "cell_type": "code",
   "execution_count": 3,
   "id": "e328063a",
   "metadata": {},
   "outputs": [],
   "source": [
    "def download_pyg_data(config):\n",
    "    leaf_dir = config[\"kwargs\"][\"root\"].split(\"/\")[-1].strip()\n",
    "    data_dir = osp.join(config[\"kwargs\"][\"root\"], \"\" if config[\"name\"]==leaf_dir else config[\"name\"])\n",
    "    dst_path = osp.join(data_dir, \"raw\", \"data.pt\")\n",
    "    mask_path = osp.join(data_dir, \"processed\")\n",
    "    if not osp.exists(mask_path):\n",
    "        \n",
    "    return config[\"kwargs\"][\"root\"], config[\"name\"], data_dir\n",
    "    ...\n"
   ]
  },
  {
   "cell_type": "code",
   "execution_count": 4,
   "id": "addde89c",
   "metadata": {},
   "outputs": [],
   "source": [
    "def download_data(root, dataset):\n",
    "    config = decide_config(root=root, dataset=dataset)\n",
    "    if config[\"src\"] == \"pyg\":\n",
    "        return download_pyg_data(config)"
   ]
  },
  {
   "cell_type": "code",
   "execution_count": null,
   "id": "ded8e9a7",
   "metadata": {},
   "outputs": [],
   "source": [
    "def Random_Nonzero_Masking(data, labels, label_rate):\n",
    "    label_rate *= 0.01\n",
    "    train_size = int(data.x.size(0)*label_rate)\n",
    "    eval_size = data.x.size(0) - train_size\n",
    "    \n",
    "    dev_size = int(eval_size*0.1)\n",
    "    final_train_mask = None\n",
    "    final_val_mask = None\n",
    "    final_test_mask = None\n",
    "    \n",
    "    cnt = 0\n",
    "    \n",
    "    while True:\n",
    "        labaels = data.y.numpy()\n",
    "        \n",
    "        perm = np.random.permutation(labels.shape[0])\n",
    "        \n",
    "        train_index = perm[:train_size]        \n",
    "        dev_index = perm[train_size:train_size+dev_size]\n",
    "        test_index = perm[train_size+dev_size:]\n",
    "        \n",
    "        data_index = np.arange(labels.shape[0])"
   ]
  }
 ],
 "metadata": {
  "kernelspec": {
   "display_name": "Python 3",
   "language": "python",
   "name": "python3"
  },
  "language_info": {
   "codemirror_mode": {
    "name": "ipython",
    "version": 3
   },
   "file_extension": ".py",
   "mimetype": "text/x-python",
   "name": "python",
   "nbconvert_exporter": "python",
   "pygments_lexer": "ipython3",
   "version": "3.8.2"
  }
 },
 "nbformat": 4,
 "nbformat_minor": 5
}
