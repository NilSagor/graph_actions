{
 "cells": [
  {
   "cell_type": "code",
   "execution_count": 10,
   "id": "e8cd562e",
   "metadata": {},
   "outputs": [
    {
     "ename": "ModuleNotFoundError",
     "evalue": "No module named 'spectral_embedding'",
     "output_type": "error",
     "traceback": [
      "\u001b[0;31m---------------------------------------------------------------------------\u001b[0m",
      "\u001b[0;31mModuleNotFoundError\u001b[0m                       Traceback (most recent call last)",
      "\u001b[0;32m<ipython-input-10-1f0335956447>\u001b[0m in \u001b[0;36m<module>\u001b[0;34m\u001b[0m\n\u001b[1;32m      3\u001b[0m \u001b[0;32mfrom\u001b[0m \u001b[0msklearn\u001b[0m\u001b[0;34m.\u001b[0m\u001b[0mcluster\u001b[0m \u001b[0;32mimport\u001b[0m \u001b[0mKMeans\u001b[0m\u001b[0;34m\u001b[0m\u001b[0;34m\u001b[0m\u001b[0m\n\u001b[1;32m      4\u001b[0m \u001b[0;34m\u001b[0m\u001b[0m\n\u001b[0;32m----> 5\u001b[0;31m \u001b[0;32mfrom\u001b[0m \u001b[0mspectral_embedding\u001b[0m \u001b[0;32mimport\u001b[0m \u001b[0;34m*\u001b[0m\u001b[0;34m\u001b[0m\u001b[0;34m\u001b[0m\u001b[0m\n\u001b[0m",
      "\u001b[0;31mModuleNotFoundError\u001b[0m: No module named 'spectral_embedding'"
     ]
    }
   ],
   "source": [
    "import networkx as nx\n",
    "\n",
    "from sklearn.cluster import KMeans\n",
    "\n",
    "from spectral_embedding import *"
   ]
  },
  {
   "cell_type": "markdown",
   "id": "093b8151",
   "metadata": {},
   "source": [
    "# Weighted spectral embedding"
   ]
  },
  {
   "cell_type": "code",
   "execution_count": null,
   "id": "367f36d0",
   "metadata": {},
   "outputs": [],
   "source": [
    "spectral = SpectralpEmbedding()\n",
    "weighted_spectral = SpectralEmbedding(node_weights=\"degree\")"
   ]
  },
  {
   "cell_type": "markdown",
   "id": "81a1087f",
   "metadata": {},
   "source": [
    "# Toy example Karate_club_graph()"
   ]
  },
  {
   "cell_type": "code",
   "execution_count": 9,
   "id": "d78e8db0",
   "metadata": {},
   "outputs": [],
   "source": [
    "graph = nx.karate_club_graph()\n",
    "\n",
    "ground_truth_labels = list(nx.get_node_attributes(graph, \"club\").values())\n",
    "\n",
    "adjacency = nx.to_scipy_sparse_array(graph)"
   ]
  },
  {
   "cell_type": "markdown",
   "id": "bae70dfd",
   "metadata": {},
   "source": [
    "# Embeddings"
   ]
  },
  {
   "cell_type": "code",
   "execution_count": null,
   "id": "b9c0fd55",
   "metadata": {},
   "outputs": [],
   "source": [
    "spectral.fit(adjacency)"
   ]
  },
  {
   "cell_type": "code",
   "execution_count": null,
   "id": "cb13a57d",
   "metadata": {},
   "outputs": [],
   "source": [
    "weighted_spectral.fit(adjacency)"
   ]
  },
  {
   "cell_type": "code",
   "execution_count": null,
   "id": "384756d5",
   "metadata": {},
   "outputs": [],
   "source": [
    "embedding = spectral.embedding_\n",
    "weighted_embedding = weighted_spectral.embedding_"
   ]
  },
  {
   "cell_type": "code",
   "execution_count": null,
   "id": "11cd8d9d",
   "metadata": {},
   "outputs": [],
   "source": [
    "normalized_embedding =(embedding.T/ np.linalg.norm(embedding, axis=1)).T \n",
    "normalized_weighted_embedding = (weighted_embedding.T/ np.linalg.norm(weighted_embedding, axis=1)).T"
   ]
  },
  {
   "cell_type": "markdown",
   "id": "faa9597e",
   "metadata": {},
   "source": [
    "# Clusterings"
   ]
  },
  {
   "cell_type": "code",
   "execution_count": null,
   "id": "88fcecdb",
   "metadata": {},
   "outputs": [],
   "source": [
    "n_clusters = 2\n",
    "kmeans = KMeans(n_clusters)\n",
    "\n",
    "kmeans.fit(embedding)\n",
    "labels = list(kmeans.labels_)\n",
    "\n",
    "kmeans.fit(normalized_embedding)\n",
    "normalized_labels = list(kmeans.labels_)\n",
    "\n",
    "\n",
    "kmeans.fit(weighted_embedding)\n",
    "weighted_labels = list(kmeans.labels_)\n",
    "\n",
    "kmeans.fit(normalized_weighted_embedding)\n",
    "normalized_weighted_labels = list(kmeans.labels_)"
   ]
  },
  {
   "cell_type": "code",
   "execution_count": null,
   "id": "28edf8a8",
   "metadata": {},
   "outputs": [],
   "source": [
    "# Ground truth\n",
    "Counter(ground_truth_labels)"
   ]
  },
  {
   "cell_type": "code",
   "execution_count": null,
   "id": "7e1b2479",
   "metadata": {},
   "outputs": [],
   "source": [
    "# Spectral embedding\n",
    "Counter(labels), Counter(normalized_labels)"
   ]
  },
  {
   "cell_type": "code",
   "execution_count": null,
   "id": "dda5eb8b",
   "metadata": {},
   "outputs": [],
   "source": [
    "# Weighted Spectral embedding\n",
    "counter(weighted_labels), Counter(normalized_weighted_labels)"
   ]
  }
 ],
 "metadata": {
  "kernelspec": {
   "display_name": "Python 3",
   "language": "python",
   "name": "python3"
  },
  "language_info": {
   "codemirror_mode": {
    "name": "ipython",
    "version": 3
   },
   "file_extension": ".py",
   "mimetype": "text/x-python",
   "name": "python",
   "nbconvert_exporter": "python",
   "pygments_lexer": "ipython3",
   "version": "3.8.2"
  }
 },
 "nbformat": 4,
 "nbformat_minor": 5
}
