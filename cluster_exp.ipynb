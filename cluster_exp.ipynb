{
 "cells": [
  {
   "cell_type": "code",
   "execution_count": 12,
   "id": "0d7cf3b1",
   "metadata": {},
   "outputs": [],
   "source": [
    "import networkx as nx\n",
    "\n",
    "from sklearn.cluster import KMeans\n",
    "\n",
    "# from spectral_embedding import *\n",
    "\n",
    "from collections import Counter"
   ]
  },
  {
   "cell_type": "markdown",
   "id": "4e441e85",
   "metadata": {},
   "source": [
    "# Weighted spectral embedding"
   ]
  },
  {
   "cell_type": "code",
   "execution_count": null,
   "id": "63e7cdab",
   "metadata": {},
   "outputs": [],
   "source": [
    "spectral = SpectralpEmbedding()\n",
    "weighted_spectral = SpectralEmbedding(node_weights=\"degree\")"
   ]
  },
  {
   "cell_type": "markdown",
   "id": "3ecd097a",
   "metadata": {},
   "source": [
    "# Toy example Karate_club_graph()"
   ]
  },
  {
   "cell_type": "code",
   "execution_count": 9,
   "id": "0d8ccf31",
   "metadata": {},
   "outputs": [],
   "source": [
    "graph = nx.karate_club_graph()\n",
    "\n",
    "ground_truth_labels = list(nx.get_node_attributes(graph, \"club\").values())\n",
    "\n",
    "adjacency = nx.to_scipy_sparse_array(graph)"
   ]
  },
  {
   "cell_type": "markdown",
   "id": "40e2f8ee",
   "metadata": {},
   "source": [
    "# Embeddings"
   ]
  },
  {
   "cell_type": "code",
   "execution_count": null,
   "id": "9a4f4ad0",
   "metadata": {},
   "outputs": [],
   "source": [
    "spectral.fit(adjacency)"
   ]
  },
  {
   "cell_type": "code",
   "execution_count": null,
   "id": "3358a95a",
   "metadata": {},
   "outputs": [],
   "source": [
    "weighted_spectral.fit(adjacency)"
   ]
  },
  {
   "cell_type": "code",
   "execution_count": null,
   "id": "8f5ebb04",
   "metadata": {},
   "outputs": [],
   "source": [
    "embedding = spectral.embedding_\n",
    "weighted_embedding = weighted_spectral.embedding_"
   ]
  },
  {
   "cell_type": "code",
   "execution_count": null,
   "id": "17eda3dd",
   "metadata": {},
   "outputs": [],
   "source": [
    "normalized_embedding =(embedding.T/ np.linalg.norm(embedding, axis=1)).T \n",
    "normalized_weighted_embedding = (weighted_embedding.T/ np.linalg.norm(weighted_embedding, axis=1)).T"
   ]
  },
  {
   "cell_type": "markdown",
   "id": "56ad7198",
   "metadata": {},
   "source": [
    "# Clusterings"
   ]
  },
  {
   "cell_type": "code",
   "execution_count": null,
   "id": "d51cf169",
   "metadata": {},
   "outputs": [],
   "source": [
    "n_clusters = 2\n",
    "kmeans = KMeans(n_clusters)\n",
    "\n",
    "kmeans.fit(embedding)\n",
    "labels = list(kmeans.labels_)\n",
    "\n",
    "kmeans.fit(normalized_embedding)\n",
    "normalized_labels = list(kmeans.labels_)\n",
    "\n",
    "\n",
    "kmeans.fit(weighted_embedding)\n",
    "weighted_labels = list(kmeans.labels_)\n",
    "\n",
    "kmeans.fit(normalized_weighted_embedding)\n",
    "normalized_weighted_labels = list(kmeans.labels_)"
   ]
  },
  {
   "cell_type": "code",
   "execution_count": null,
   "id": "48d55062",
   "metadata": {},
   "outputs": [],
   "source": [
    "# Ground truth\n",
    "Counter(ground_truth_labels)"
   ]
  },
  {
   "cell_type": "code",
   "execution_count": null,
   "id": "b3c112d8",
   "metadata": {},
   "outputs": [],
   "source": [
    "# Spectral embedding\n",
    "Counter(labels), Counter(normalized_labels)"
   ]
  },
  {
   "cell_type": "code",
   "execution_count": null,
   "id": "b8d02668",
   "metadata": {},
   "outputs": [],
   "source": [
    "# Weighted Spectral embedding\n",
    "Counter(weighted_labels), Counter(normalized_weighted_labels)"
   ]
  }
 ],
 "metadata": {
  "kernelspec": {
   "display_name": "Python 3",
   "language": "python",
   "name": "python3"
  },
  "language_info": {
   "codemirror_mode": {
    "name": "ipython",
    "version": 3
   },
   "file_extension": ".py",
   "mimetype": "text/x-python",
   "name": "python",
   "nbconvert_exporter": "python",
   "pygments_lexer": "ipython3",
   "version": "3.8.2"
  }
 },
 "nbformat": 4,
 "nbformat_minor": 5
}
